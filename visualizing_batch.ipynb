{
 "cells": [
  {
   "cell_type": "code",
   "execution_count": 1,
   "metadata": {},
   "outputs": [
    {
     "name": "stdout",
     "output_type": "stream",
     "text": [
      "Requirement already satisfied: sklearn in c:\\users\\maria\\github-classroom\\dcc-uab\\dlnn-project_ia-group_15\\.conda\\lib\\site-packages (0.0.post5)\n",
      "Note: you may need to restart the kernel to use updated packages.\n"
     ]
    }
   ],
   "source": [
    "pip install sklearn"
   ]
  },
  {
   "cell_type": "code",
   "execution_count": 2,
   "metadata": {},
   "outputs": [],
   "source": [
    "from utils.utils import *\n",
    "import matplotlib.pyplot as plt"
   ]
  },
  {
   "cell_type": "code",
   "execution_count": 4,
   "metadata": {},
   "outputs": [],
   "source": [
    "data_path = \"C:/Users/Maria/OneDrive - UAB/Documentos/2º de IA/NN and Deep Learning/dlnn-project_ia-group_15/data/\"\n",
    "anotation_path= r\"C:\\Users\\Maria\\OneDrive - UAB\\Documentos\\2º de IA\\NN and Deep Learning\\dlnn-project_ia-group_15\\anotations_keras.pkl\"\n",
    "img_dir = data_path + \"JPEGImages\"\n",
    "txt_dir = data_path + \"ImageSets/0\"\n",
    "path_model = r\"C:\\Users\\Maria\\Downloads\\glove_transformer_depth_4_head_n_8_drop_0_4_mobilnet_batch_120.pkl\"\n",
    "\n",
    "config = dict(\n",
    "        epochs=35,\n",
    "        classes=28,\n",
    "        batch_size=163,\n",
    "        batch_size_val_test=163,\n",
    "        learning_rate=0.00006,\n",
    "        patience=10,\n",
    "        heads=4,\n",
    "        depth=3,\n",
    "        fc_transformer=340,\n",
    "        dropout=0.2,\n",
    "        dataset=\"ConText\",\n",
    "        architecture=\"Transformer\",\n",
    "        cnn = \"Convext_tiny\",\n",
    "        weights = \"DEFAULT\",\n",
    "        name_model=\"glove_transformer_depth_4_head_n_8_drop_0_4_mobilnet_batch_120.pkl\")"
   ]
  },
  {
   "cell_type": "code",
   "execution_count": 5,
   "metadata": {},
   "outputs": [
    {
     "name": "stdout",
     "output_type": "stream",
     "text": [
      "Creating anotations...\n"
     ]
    },
    {
     "name": "stderr",
     "output_type": "stream",
     "text": [
      "67it [00:00, 354.89it/s]"
     ]
    },
    {
     "name": "stdout",
     "output_type": "stream",
     "text": [
      "Processed 0 images out of 24255\n"
     ]
    },
    {
     "name": "stderr",
     "output_type": "stream",
     "text": [
      "3065it [00:07, 408.99it/s]"
     ]
    },
    {
     "name": "stdout",
     "output_type": "stream",
     "text": [
      "Processed 3000 images out of 24255\n"
     ]
    },
    {
     "name": "stderr",
     "output_type": "stream",
     "text": [
      "6064it [00:14, 417.37it/s]"
     ]
    },
    {
     "name": "stdout",
     "output_type": "stream",
     "text": [
      "Processed 6000 images out of 24255\n"
     ]
    },
    {
     "name": "stderr",
     "output_type": "stream",
     "text": [
      "9081it [00:22, 419.47it/s]"
     ]
    },
    {
     "name": "stdout",
     "output_type": "stream",
     "text": [
      "Processed 9000 images out of 24255\n"
     ]
    },
    {
     "name": "stderr",
     "output_type": "stream",
     "text": [
      "12073it [00:29, 415.42it/s]"
     ]
    },
    {
     "name": "stdout",
     "output_type": "stream",
     "text": [
      "Processed 12000 images out of 24255\n"
     ]
    },
    {
     "name": "stderr",
     "output_type": "stream",
     "text": [
      "15075it [00:36, 402.73it/s]"
     ]
    },
    {
     "name": "stdout",
     "output_type": "stream",
     "text": [
      "Processed 15000 images out of 24255\n"
     ]
    },
    {
     "name": "stderr",
     "output_type": "stream",
     "text": [
      "18068it [00:43, 459.32it/s]"
     ]
    },
    {
     "name": "stdout",
     "output_type": "stream",
     "text": [
      "Processed 18000 images out of 24255\n"
     ]
    },
    {
     "name": "stderr",
     "output_type": "stream",
     "text": [
      "21065it [00:50, 440.66it/s]"
     ]
    },
    {
     "name": "stdout",
     "output_type": "stream",
     "text": [
      "Processed 21000 images out of 24255\n"
     ]
    },
    {
     "name": "stderr",
     "output_type": "stream",
     "text": [
      "24051it [00:57, 429.81it/s]"
     ]
    },
    {
     "name": "stdout",
     "output_type": "stream",
     "text": [
      "Processed 24000 images out of 24255\n"
     ]
    },
    {
     "name": "stderr",
     "output_type": "stream",
     "text": [
      "24255it [00:58, 415.30it/s]\n"
     ]
    }
   ],
   "source": [
    "from models.models import *\n",
    "from utils.utils import *\n",
    "\n",
    "device = torch.device(\"cuda:0\" if torch.cuda.is_available() else \"cpu\")\n",
    "config = dict(\n",
    "        epochs=35,\n",
    "        classes=28,\n",
    "        batch_size=16,\n",
    "        batch_size_val_test=25,\n",
    "        learning_rate=0.00005,\n",
    "        patience=10,\n",
    "        heads=3,\n",
    "        depth=2,\n",
    "        fc_transformer=315,\n",
    "        dataset=\"ConText\",\n",
    "        architecture=\"Transformer\",\n",
    "        cnn = \"convnext_tiny\",\n",
    "        weights = \"DEFAULT\")\n",
    "\n",
    "model, train_loader, test_loader, val_loader = make(config)"
   ]
  },
  {
   "cell_type": "code",
   "execution_count": 32,
   "metadata": {},
   "outputs": [],
   "source": [
    "def de_normalize(images):\n",
    "  t = transforms.Normalize(mean=[-0.485/0.229, -0.456/0.224, -0.406/0.255],\n",
    "                           std=[1/0.229, 1/0.224, 1/0.255])\n",
    "  \n",
    "  return t(images)"
   ]
  },
  {
   "cell_type": "code",
   "execution_count": 63,
   "metadata": {},
   "outputs": [],
   "source": [
    "label2class = {1: \"Bakery\",\n",
    "10:\"Dry Cleaner\",\n",
    "11:\"Funeral\",\n",
    "12:\"Hotspot\",\n",
    "13:\"MassageCenter\",\n",
    "14:\"MedicalCenter\",\n",
    "15:\"PackingStore\",\n",
    "16:\"Pawnshop\",\n",
    "17:\"PetShop\",\n",
    "18:\"Pharmacy\",\n",
    "19:\"Pizzeria\",\n",
    "2:\"Barber\",\n",
    "20:\"RepairShop\",\n",
    "21:\"Restaurant\",\n",
    "22:\"School\",\n",
    "23:\"SteakHouse\",\n",
    "24:\"Tavern\",\n",
    "25:\"TeaHouse\",\n",
    "26:\"Theatre\",\n",
    "27:\"Tobacco\",\n",
    "28:\"Motel\",\n",
    "3:\"Bistro\",\n",
    "4:\"Bookstore\",\n",
    "5:\"Cafe\",\n",
    "6:\"ComputerStore\",\n",
    "7:\"CountryStore\",\n",
    "8:\"Diner\",\n",
    "9:\"DiscounHouse\"}"
   ]
  },
  {
   "cell_type": "code",
   "execution_count": 96,
   "metadata": {},
   "outputs": [],
   "source": [
    "for label, image, text, mask in train_loader:\n",
    "    print(image.shape)\n",
    "    break"
   ]
  },
  {
   "cell_type": "code",
   "execution_count": 94,
   "metadata": {},
   "outputs": [],
   "source": [
    "from math import ceil\n",
    "# visualize a batch of data\n",
    "def visualize_batch(data_loader, n_images=4):\n",
    "    rndm_idx = np.random.randint(len(data_loader.dataset))\n",
    "    \n",
    "    # plot the images in the batch, along with the corresponding labels\n",
    "    fig, ax = plt.subplots(ceil(n_images/5), 5, figsize=(5*3, ceil(n_images/5)*3))\n",
    "    # put margins between subplots\n",
    "    fig.subplots_adjust(hspace=0.5)\n",
    "    plt.axis('off')\n",
    "    for i, (label, image, text, mask) in zip(range(n_images), data_loader): \n",
    "        plt.subplot(ceil(n_images/5), 5, i+1)\n",
    "        image = image.reshape(3, 224, 224)\n",
    "        image = de_normalize(image)\n",
    "        image = image.permute(1, 2, 0).numpy() \n",
    "        image -= image.min()\n",
    "        image = (image / image.max()) * 255\n",
    "        plt.title(label2class[label+1])\n",
    "        plt.imshow(image.astype('uint8'))\n",
    "        plt.axis('off')"
   ]
  },
  {
   "cell_type": "code",
   "execution_count": 95,
   "metadata": {},
   "outputs": [
    {
     "ename": "KeyboardInterrupt",
     "evalue": "",
     "output_type": "error",
     "traceback": [
      "\u001b[1;31m---------------------------------------------------------------------------\u001b[0m",
      "\u001b[1;31mKeyboardInterrupt\u001b[0m                         Traceback (most recent call last)",
      "Cell \u001b[1;32mIn[95], line 1\u001b[0m\n\u001b[1;32m----> 1\u001b[0m visualize_batch(train_loader, \u001b[39m20\u001b[39;49m)\n",
      "Cell \u001b[1;32mIn[94], line 11\u001b[0m, in \u001b[0;36mvisualize_batch\u001b[1;34m(data_loader, n_images)\u001b[0m\n\u001b[0;32m      9\u001b[0m fig\u001b[39m.\u001b[39msubplots_adjust(hspace\u001b[39m=\u001b[39m\u001b[39m0.5\u001b[39m)\n\u001b[0;32m     10\u001b[0m plt\u001b[39m.\u001b[39maxis(\u001b[39m'\u001b[39m\u001b[39moff\u001b[39m\u001b[39m'\u001b[39m)\n\u001b[1;32m---> 11\u001b[0m \u001b[39mfor\u001b[39;00m i, (label, image, text, mask) \u001b[39min\u001b[39;00m \u001b[39mzip\u001b[39;49m(\u001b[39mrange\u001b[39;49m(n_images), data_loader): \n\u001b[0;32m     12\u001b[0m     plt\u001b[39m.\u001b[39msubplot(ceil(n_images\u001b[39m/\u001b[39m\u001b[39m5\u001b[39m), \u001b[39m5\u001b[39m, i\u001b[39m+\u001b[39m\u001b[39m1\u001b[39m)\n\u001b[0;32m     13\u001b[0m     image \u001b[39m=\u001b[39m image\u001b[39m.\u001b[39mreshape(\u001b[39m3\u001b[39m, \u001b[39m224\u001b[39m, \u001b[39m224\u001b[39m)\n",
      "File \u001b[1;32mc:\\Users\\Maria\\github-classroom\\DCC-UAB\\dlnn-project_ia-group_15\\.conda\\lib\\site-packages\\torch\\utils\\data\\dataloader.py:441\u001b[0m, in \u001b[0;36mDataLoader.__iter__\u001b[1;34m(self)\u001b[0m\n\u001b[0;32m    439\u001b[0m     \u001b[39mreturn\u001b[39;00m \u001b[39mself\u001b[39m\u001b[39m.\u001b[39m_iterator\n\u001b[0;32m    440\u001b[0m \u001b[39melse\u001b[39;00m:\n\u001b[1;32m--> 441\u001b[0m     \u001b[39mreturn\u001b[39;00m \u001b[39mself\u001b[39;49m\u001b[39m.\u001b[39;49m_get_iterator()\n",
      "File \u001b[1;32mc:\\Users\\Maria\\github-classroom\\DCC-UAB\\dlnn-project_ia-group_15\\.conda\\lib\\site-packages\\torch\\utils\\data\\dataloader.py:388\u001b[0m, in \u001b[0;36mDataLoader._get_iterator\u001b[1;34m(self)\u001b[0m\n\u001b[0;32m    386\u001b[0m \u001b[39melse\u001b[39;00m:\n\u001b[0;32m    387\u001b[0m     \u001b[39mself\u001b[39m\u001b[39m.\u001b[39mcheck_worker_number_rationality()\n\u001b[1;32m--> 388\u001b[0m     \u001b[39mreturn\u001b[39;00m _MultiProcessingDataLoaderIter(\u001b[39mself\u001b[39;49m)\n",
      "File \u001b[1;32mc:\\Users\\Maria\\github-classroom\\DCC-UAB\\dlnn-project_ia-group_15\\.conda\\lib\\site-packages\\torch\\utils\\data\\dataloader.py:1042\u001b[0m, in \u001b[0;36m_MultiProcessingDataLoaderIter.__init__\u001b[1;34m(self, loader)\u001b[0m\n\u001b[0;32m   1035\u001b[0m w\u001b[39m.\u001b[39mdaemon \u001b[39m=\u001b[39m \u001b[39mTrue\u001b[39;00m\n\u001b[0;32m   1036\u001b[0m \u001b[39m# NB: Process.start() actually take some time as it needs to\u001b[39;00m\n\u001b[0;32m   1037\u001b[0m \u001b[39m#     start a process and pass the arguments over via a pipe.\u001b[39;00m\n\u001b[0;32m   1038\u001b[0m \u001b[39m#     Therefore, we only add a worker to self._workers list after\u001b[39;00m\n\u001b[0;32m   1039\u001b[0m \u001b[39m#     it started, so that we do not call .join() if program dies\u001b[39;00m\n\u001b[0;32m   1040\u001b[0m \u001b[39m#     before it starts, and __del__ tries to join but will get:\u001b[39;00m\n\u001b[0;32m   1041\u001b[0m \u001b[39m#     AssertionError: can only join a started process.\u001b[39;00m\n\u001b[1;32m-> 1042\u001b[0m w\u001b[39m.\u001b[39;49mstart()\n\u001b[0;32m   1043\u001b[0m \u001b[39mself\u001b[39m\u001b[39m.\u001b[39m_index_queues\u001b[39m.\u001b[39mappend(index_queue)\n\u001b[0;32m   1044\u001b[0m \u001b[39mself\u001b[39m\u001b[39m.\u001b[39m_workers\u001b[39m.\u001b[39mappend(w)\n",
      "File \u001b[1;32mc:\\Users\\Maria\\github-classroom\\DCC-UAB\\dlnn-project_ia-group_15\\.conda\\lib\\multiprocessing\\process.py:121\u001b[0m, in \u001b[0;36mBaseProcess.start\u001b[1;34m(self)\u001b[0m\n\u001b[0;32m    118\u001b[0m \u001b[39massert\u001b[39;00m \u001b[39mnot\u001b[39;00m _current_process\u001b[39m.\u001b[39m_config\u001b[39m.\u001b[39mget(\u001b[39m'\u001b[39m\u001b[39mdaemon\u001b[39m\u001b[39m'\u001b[39m), \\\n\u001b[0;32m    119\u001b[0m        \u001b[39m'\u001b[39m\u001b[39mdaemonic processes are not allowed to have children\u001b[39m\u001b[39m'\u001b[39m\n\u001b[0;32m    120\u001b[0m _cleanup()\n\u001b[1;32m--> 121\u001b[0m \u001b[39mself\u001b[39m\u001b[39m.\u001b[39m_popen \u001b[39m=\u001b[39m \u001b[39mself\u001b[39;49m\u001b[39m.\u001b[39;49m_Popen(\u001b[39mself\u001b[39;49m)\n\u001b[0;32m    122\u001b[0m \u001b[39mself\u001b[39m\u001b[39m.\u001b[39m_sentinel \u001b[39m=\u001b[39m \u001b[39mself\u001b[39m\u001b[39m.\u001b[39m_popen\u001b[39m.\u001b[39msentinel\n\u001b[0;32m    123\u001b[0m \u001b[39m# Avoid a refcycle if the target function holds an indirect\u001b[39;00m\n\u001b[0;32m    124\u001b[0m \u001b[39m# reference to the process object (see bpo-30775)\u001b[39;00m\n",
      "File \u001b[1;32mc:\\Users\\Maria\\github-classroom\\DCC-UAB\\dlnn-project_ia-group_15\\.conda\\lib\\multiprocessing\\context.py:224\u001b[0m, in \u001b[0;36mProcess._Popen\u001b[1;34m(process_obj)\u001b[0m\n\u001b[0;32m    222\u001b[0m \u001b[39m@staticmethod\u001b[39m\n\u001b[0;32m    223\u001b[0m \u001b[39mdef\u001b[39;00m \u001b[39m_Popen\u001b[39m(process_obj):\n\u001b[1;32m--> 224\u001b[0m     \u001b[39mreturn\u001b[39;00m _default_context\u001b[39m.\u001b[39;49mget_context()\u001b[39m.\u001b[39;49mProcess\u001b[39m.\u001b[39;49m_Popen(process_obj)\n",
      "File \u001b[1;32mc:\\Users\\Maria\\github-classroom\\DCC-UAB\\dlnn-project_ia-group_15\\.conda\\lib\\multiprocessing\\context.py:327\u001b[0m, in \u001b[0;36mSpawnProcess._Popen\u001b[1;34m(process_obj)\u001b[0m\n\u001b[0;32m    324\u001b[0m \u001b[39m@staticmethod\u001b[39m\n\u001b[0;32m    325\u001b[0m \u001b[39mdef\u001b[39;00m \u001b[39m_Popen\u001b[39m(process_obj):\n\u001b[0;32m    326\u001b[0m     \u001b[39mfrom\u001b[39;00m \u001b[39m.\u001b[39;00m\u001b[39mpopen_spawn_win32\u001b[39;00m \u001b[39mimport\u001b[39;00m Popen\n\u001b[1;32m--> 327\u001b[0m     \u001b[39mreturn\u001b[39;00m Popen(process_obj)\n",
      "File \u001b[1;32mc:\\Users\\Maria\\github-classroom\\DCC-UAB\\dlnn-project_ia-group_15\\.conda\\lib\\multiprocessing\\popen_spawn_win32.py:93\u001b[0m, in \u001b[0;36mPopen.__init__\u001b[1;34m(self, process_obj)\u001b[0m\n\u001b[0;32m     91\u001b[0m \u001b[39mtry\u001b[39;00m:\n\u001b[0;32m     92\u001b[0m     reduction\u001b[39m.\u001b[39mdump(prep_data, to_child)\n\u001b[1;32m---> 93\u001b[0m     reduction\u001b[39m.\u001b[39;49mdump(process_obj, to_child)\n\u001b[0;32m     94\u001b[0m \u001b[39mfinally\u001b[39;00m:\n\u001b[0;32m     95\u001b[0m     set_spawning_popen(\u001b[39mNone\u001b[39;00m)\n",
      "File \u001b[1;32mc:\\Users\\Maria\\github-classroom\\DCC-UAB\\dlnn-project_ia-group_15\\.conda\\lib\\multiprocessing\\reduction.py:60\u001b[0m, in \u001b[0;36mdump\u001b[1;34m(obj, file, protocol)\u001b[0m\n\u001b[0;32m     58\u001b[0m \u001b[39mdef\u001b[39;00m \u001b[39mdump\u001b[39m(obj, file, protocol\u001b[39m=\u001b[39m\u001b[39mNone\u001b[39;00m):\n\u001b[0;32m     59\u001b[0m \u001b[39m    \u001b[39m\u001b[39m'''Replacement for pickle.dump() using ForkingPickler.'''\u001b[39;00m\n\u001b[1;32m---> 60\u001b[0m     ForkingPickler(file, protocol)\u001b[39m.\u001b[39;49mdump(obj)\n",
      "\u001b[1;31mKeyboardInterrupt\u001b[0m: "
     ]
    },
    {
     "data": {
      "image/png": "[encoded data removed]",
      "text/plain": [
       "<Figure size 1500x1200 with 20 Axes>"
      ]
     },
     "metadata": {},
     "output_type": "display_data"
    }
   ],
   "source": [
    "visualize_batch(train_loader, 20)"
   ]
  }
 ],
 "metadata": {
  "kernelspec": {
   "display_name": "Python 3",
   "language": "python",
   "name": "python3"
  },
  "language_info": {
   "codemirror_mode": {
    "name": "ipython",
    "version": 3
   },
   "file_extension": ".py",
   "mimetype": "text/x-python",
   "name": "python",
   "nbconvert_exporter": "python",
   "pygments_lexer": "ipython3",
   "version": "3.8.16"
  },
  "orig_nbformat": 4
 },
 "nbformat": 4,
 "nbformat_minor": 2
}
