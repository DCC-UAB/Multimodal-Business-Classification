{
 "cells": [
  {
   "cell_type": "code",
   "execution_count": 6,
   "metadata": {},
   "outputs": [
    {
     "ename": "FileNotFoundError",
     "evalue": "[WinError 3] El sistema no puede encontrar la ruta especificada: 'C:/Users/Maria/OneDrive - UAB/Documentos/2º de IA/NN and Deep Learning/Project/dataImageSets/0'",
     "output_type": "error",
     "traceback": [
      "\u001b[1;31m---------------------------------------------------------------------------\u001b[0m",
      "\u001b[1;31mFileNotFoundError\u001b[0m                         Traceback (most recent call last)",
      "\u001b[1;32m~\\AppData\\Local\\Temp\\ipykernel_17504\\2219003847.py\u001b[0m in \u001b[0;36m<cell line: 13>\u001b[1;34m()\u001b[0m\n\u001b[0;32m     11\u001b[0m \u001b[1;33m\u001b[0m\u001b[0m\n\u001b[0;32m     12\u001b[0m \u001b[0mdata\u001b[0m \u001b[1;33m=\u001b[0m \u001b[0mpd\u001b[0m\u001b[1;33m.\u001b[0m\u001b[0mDataFrame\u001b[0m\u001b[1;33m(\u001b[0m\u001b[1;33m)\u001b[0m\u001b[1;33m\u001b[0m\u001b[1;33m\u001b[0m\u001b[0m\n\u001b[1;32m---> 13\u001b[1;33m \u001b[0mtxt_files\u001b[0m \u001b[1;33m=\u001b[0m \u001b[0mos\u001b[0m\u001b[1;33m.\u001b[0m\u001b[0mlistdir\u001b[0m\u001b[1;33m(\u001b[0m\u001b[0mfiles_dir\u001b[0m\u001b[1;33m)\u001b[0m\u001b[1;33m\u001b[0m\u001b[1;33m\u001b[0m\u001b[0m\n\u001b[0m\u001b[0;32m     14\u001b[0m \u001b[0mtrain_txt\u001b[0m \u001b[1;33m=\u001b[0m \u001b[1;33m[\u001b[0m\u001b[0mtxt\u001b[0m \u001b[1;32mfor\u001b[0m \u001b[0mtxt\u001b[0m \u001b[1;32min\u001b[0m \u001b[0mtxt_files\u001b[0m \u001b[1;32mif\u001b[0m \u001b[1;34m'_train'\u001b[0m \u001b[1;32min\u001b[0m \u001b[0mtxt\u001b[0m\u001b[1;33m]\u001b[0m\u001b[1;33m\u001b[0m\u001b[1;33m\u001b[0m\u001b[0m\n\u001b[0;32m     15\u001b[0m \u001b[0mtest_txt\u001b[0m \u001b[1;33m=\u001b[0m \u001b[1;33m[\u001b[0m\u001b[0mtxt\u001b[0m \u001b[1;32mfor\u001b[0m \u001b[0mtxt\u001b[0m \u001b[1;32min\u001b[0m \u001b[0mtxt_files\u001b[0m \u001b[1;32mif\u001b[0m \u001b[1;34m'_test'\u001b[0m \u001b[1;32min\u001b[0m \u001b[0mtxt\u001b[0m\u001b[1;33m]\u001b[0m\u001b[1;33m\u001b[0m\u001b[1;33m\u001b[0m\u001b[0m\n",
      "\u001b[1;31mFileNotFoundError\u001b[0m: [WinError 3] El sistema no puede encontrar la ruta especificada: 'C:/Users/Maria/OneDrive - UAB/Documentos/2º de IA/NN and Deep Learning/Project/dataImageSets/0'"
     ]
    }
   ],
   "source": [
    "import os\n",
    "import numpy as np\n",
    "from tqdm import tqdm\n",
    "from PIL import Image\n",
    "import pandas as pd\n",
    "\n",
    "# Path to the data folder\n",
    "data_dir = \"C:/Users/Maria/OneDrive - UAB/Documentos/2º de IA/NN and Deep Learning/Project/data\"\n",
    "files_dir = data_dir + \"ImageSets/0\"\n",
    "img_dir = data_dir + \"JPEGImages\"\n",
    "\n",
    "data = pd.DataFrame()\n",
    "txt_files = os.listdir(files_dir)\n",
    "train_txt = [txt for txt in txt_files if '_train' in txt]\n",
    "test_txt = [txt for txt in txt_files if '_test' in txt]\n",
    "list_name = []\n",
    "list_img = []\n",
    "list_label = []\n",
    "for txt in tqdm(train_txt):\n",
    "    with open(os.path.join(files_dir, txt), 'r') as f:\n",
    "        lines = f.readlines()\n",
    "        for line in tqdm(lines):\n",
    "            line = line.split('\\t')\n",
    "            if len(line) >= 2:\n",
    "                if len(line[1]) >= 1:\n",
    "                    label = line[1][:-1]\n",
    "\n",
    "                    if label == \"1\":\n",
    "                        img_name = line[0]\n",
    "                        img = Image.open(os.path.join(img_dir, img_name + \".jpg\")) \n",
    "\n",
    "                        list_img.append(np.array(img))\n",
    "                        list_label.append(txt.split('_')[0])\n",
    "                        list_name.append(img_name+\".jpg\")\n",
    "    \n",
    "                else:\n",
    "                    print(\"Error in line: \", line, \"from file: \", txt)\n",
    "            else:\n",
    "                print(\"Error in line: \", line, \"from file: \", txt)\n",
    "\n",
    "data[\"img\"] = list_img\n",
    "data[\"label\"] = list_label\n",
    "data[\"name\"] = list_name\n",
    "\n",
    "data.set_index(\"name\", inplace=True)\n",
    "data[\"label\"] = data[\"label\"].astype(int)\n",
    "data.head()"
   ]
  },
  {
   "cell_type": "code",
   "execution_count": null,
   "metadata": {},
   "outputs": [],
   "source": [
    "data_test = pd.DataFrame()\n",
    "txt_files = os.listdir(files_dir)\n",
    "test_txt = [txt for txt in txt_files if '_test' in txt]\n",
    "list_name = []\n",
    "list_img = []\n",
    "list_label = []\n",
    "for txt in tqdm(test_txt):\n",
    "    with open(os.path.join(files_dir, txt), 'r') as f:\n",
    "        lines = f.readlines()\n",
    "        for line in tqdm(lines):\n",
    "            line = line.split('\\t')\n",
    "            if len(line) >= 2:\n",
    "                if len(line[1]) >= 1:\n",
    "                    label = line[1][:-1]\n",
    "\n",
    "                    if label == \"1\":\n",
    "                        img_name = line[0]\n",
    "                        img = Image.open(os.path.join(img_dir, img_name + \".jpg\")) \n",
    "\n",
    "                        list_img.append(np.array(img))\n",
    "                        list_label.append(txt.split('_')[0])\n",
    "                        list_name.append(img_name+\".jpg\")\n",
    "    \n",
    "                else:\n",
    "                    print(\"Error in line: \", line, \"from file: \", txt)\n",
    "            else:\n",
    "                print(\"Error in line: \", line, \"from file: \", txt)\n",
    "\n",
    "data_test[\"img\"] = list_img\n",
    "data_test[\"label\"] = list_label\n",
    "data_test[\"name\"] = list_name\n",
    "\n",
    "data_test.set_index(\"name\", inplace=True)\n",
    "data_test[\"label\"] = data[\"label\"].astype(int)\n",
    "data_test.head()"
   ]
  },
  {
   "cell_type": "code",
   "execution_count": 9,
   "metadata": {},
   "outputs": [
    {
     "data": {
      "text/plain": [
       "<Axes: xlabel='label'>"
      ]
     },
     "execution_count": 9,
     "metadata": {},
     "output_type": "execute_result"
    },
    {
     "data": {
      "image/png": "[encoded data removed]",
      "text/plain": [
       "<Figure size 1080x504 with 1 Axes>"
      ]
     },
     "metadata": {
      "needs_background": "light"
     },
     "output_type": "display_data"
    }
   ],
   "source": [
    "data[\"label\"].value_counts().sort_index().plot(kind=\"bar\", figsize=(15,7))"
   ]
  },
  {
   "cell_type": "code",
   "execution_count": 10,
   "metadata": {},
   "outputs": [
    {
     "data": {
      "text/plain": [
       "label\n",
       "1      810\n",
       "2     1049\n",
       "3      192\n",
       "4      889\n",
       "5      560\n",
       "6      192\n",
       "7      816\n",
       "8      758\n",
       "9       29\n",
       "10     797\n",
       "11     661\n",
       "12      50\n",
       "13     186\n",
       "14     806\n",
       "15     778\n",
       "16     330\n",
       "17     416\n",
       "18     850\n",
       "19     761\n",
       "20     514\n",
       "21     801\n",
       "22     922\n",
       "23     218\n",
       "24     156\n",
       "25     474\n",
       "26     928\n",
       "27     484\n",
       "28     751\n",
       "Name: count, dtype: int64"
      ]
     },
     "execution_count": 10,
     "metadata": {},
     "output_type": "execute_result"
    }
   ],
   "source": [
    "data[\"label\"].value_counts().sort_index()"
   ]
  },
  {
   "cell_type": "code",
   "execution_count": 11,
   "metadata": {},
   "outputs": [],
   "source": [
    "# save the dataframe\n",
    "# data.to_pickle(\"data.pkl\")"
   ]
  },
  {
   "cell_type": "code",
   "execution_count": 12,
   "metadata": {},
   "outputs": [],
   "source": [
    "# load the dataframe\n",
    "# data = pd.read_pickle(\"data.pkl\")"
   ]
  },
  {
   "cell_type": "code",
   "execution_count": 14,
   "metadata": {},
   "outputs": [
    {
     "data": {
      "text/html": [
       "<div>\n",
       "<style scoped>\n",
       "    .dataframe tbody tr th:only-of-type {\n",
       "        vertical-align: middle;\n",
       "    }\n",
       "\n",
       "    .dataframe tbody tr th {\n",
       "        vertical-align: top;\n",
       "    }\n",
       "\n",
       "    .dataframe thead th {\n",
       "        text-align: right;\n",
       "    }\n",
       "</style>\n",
       "<table border=\"1\" class=\"dataframe\">\n",
       "  <thead>\n",
       "    <tr style=\"text-align: right;\">\n",
       "      <th></th>\n",
       "      <th>text_detected</th>\n",
       "    </tr>\n",
       "  </thead>\n",
       "  <tbody>\n",
       "    <tr>\n",
       "      <th>n02746978_10002.jpg</th>\n",
       "      <td>[SCHOOL QF, VISUAL&amp;, PERFORMING, ARTS, BRIDGE,...</td>\n",
       "    </tr>\n",
       "    <tr>\n",
       "      <th>n02746978_10031.jpg</th>\n",
       "      <td>[iS it Arta, welcome, BurpItit, Buf]</td>\n",
       "    </tr>\n",
       "    <tr>\n",
       "      <th>n02746978_10221.jpg</th>\n",
       "      <td>[]</td>\n",
       "    </tr>\n",
       "    <tr>\n",
       "      <th>n02746978_10238.jpg</th>\n",
       "      <td>[]</td>\n",
       "    </tr>\n",
       "    <tr>\n",
       "      <th>n02746978_10258.jpg</th>\n",
       "      <td>[]</td>\n",
       "    </tr>\n",
       "  </tbody>\n",
       "</table>\n",
       "</div>"
      ],
      "text/plain": [
       "                                                         text_detected\n",
       "n02746978_10002.jpg  [SCHOOL QF, VISUAL&, PERFORMING, ARTS, BRIDGE,...\n",
       "n02746978_10031.jpg               [iS it Arta, welcome, BurpItit, Buf]\n",
       "n02746978_10221.jpg                                                 []\n",
       "n02746978_10238.jpg                                                 []\n",
       "n02746978_10258.jpg                                                 []"
      ]
     },
     "execution_count": 14,
     "metadata": {},
     "output_type": "execute_result"
    }
   ],
   "source": [
    "# open dataframe from ocr_dir\n",
    "ocr_dir = \"anotations.pkl\"\n",
    "ocr_data = pd.read_pickle(ocr_dir)\n",
    "\n",
    "ocr_data.head()"
   ]
  },
  {
   "cell_type": "code",
   "execution_count": 21,
   "metadata": {},
   "outputs": [],
   "source": [
    "# concatenate the dataframes using the index and merging the columns\n",
    "data_anotated = pd.concat([data, ocr_data], axis=1, join=\"inner\")"
   ]
  },
  {
   "cell_type": "code",
   "execution_count": 22,
   "metadata": {},
   "outputs": [
    {
     "data": {
      "text/html": [
       "<div>\n",
       "<style scoped>\n",
       "    .dataframe tbody tr th:only-of-type {\n",
       "        vertical-align: middle;\n",
       "    }\n",
       "\n",
       "    .dataframe tbody tr th {\n",
       "        vertical-align: top;\n",
       "    }\n",
       "\n",
       "    .dataframe thead th {\n",
       "        text-align: right;\n",
       "    }\n",
       "</style>\n",
       "<table border=\"1\" class=\"dataframe\">\n",
       "  <thead>\n",
       "    <tr style=\"text-align: right;\">\n",
       "      <th></th>\n",
       "      <th>img</th>\n",
       "      <th>label</th>\n",
       "      <th>text_detected</th>\n",
       "    </tr>\n",
       "  </thead>\n",
       "  <tbody>\n",
       "    <tr>\n",
       "      <th>n03039827_16253.jpg</th>\n",
       "      <td>[[[130, 134, 143], [130, 134, 143], [130, 134,...</td>\n",
       "      <td>10</td>\n",
       "      <td>[She, KLEEN-It, @ny Cleanehs]</td>\n",
       "    </tr>\n",
       "    <tr>\n",
       "      <th>n03039827_10498.jpg</th>\n",
       "      <td>[[[255, 255, 255], [255, 255, 255], [255, 255,...</td>\n",
       "      <td>10</td>\n",
       "      <td>[@RY CL_ANING, F4L, Curana2 4T7ee31, hout]</td>\n",
       "    </tr>\n",
       "    <tr>\n",
       "      <th>n03039827_8430.jpg</th>\n",
       "      <td>[[[161, 178, 208], [162, 179, 209], [163, 180,...</td>\n",
       "      <td>10</td>\n",
       "      <td>[1, Sisvie]</td>\n",
       "    </tr>\n",
       "    <tr>\n",
       "      <th>n03039827_3781.jpg</th>\n",
       "      <td>[[[42, 72, 132], [41, 71, 131], [41, 71, 131],...</td>\n",
       "      <td>10</td>\n",
       "      <td>[Tnina, IL, didy, cleincR6, DRTVE, Tn, EiG, In...</td>\n",
       "    </tr>\n",
       "    <tr>\n",
       "      <th>n03039827_16136.jpg</th>\n",
       "      <td>[[[155, 164, 181], [156, 165, 182], [157, 166,...</td>\n",
       "      <td>10</td>\n",
       "      <td>[1, CLEANERS, SAME, DAY, SERVICE]</td>\n",
       "    </tr>\n",
       "  </tbody>\n",
       "</table>\n",
       "</div>"
      ],
      "text/plain": [
       "                                                                   img  label   \n",
       "n03039827_16253.jpg  [[[130, 134, 143], [130, 134, 143], [130, 134,...     10  \\\n",
       "n03039827_10498.jpg  [[[255, 255, 255], [255, 255, 255], [255, 255,...     10   \n",
       "n03039827_8430.jpg   [[[161, 178, 208], [162, 179, 209], [163, 180,...     10   \n",
       "n03039827_3781.jpg   [[[42, 72, 132], [41, 71, 131], [41, 71, 131],...     10   \n",
       "n03039827_16136.jpg  [[[155, 164, 181], [156, 165, 182], [157, 166,...     10   \n",
       "\n",
       "                                                         text_detected  \n",
       "n03039827_16253.jpg                      [She, KLEEN-It, @ny Cleanehs]  \n",
       "n03039827_10498.jpg         [@RY CL_ANING, F4L, Curana2 4T7ee31, hout]  \n",
       "n03039827_8430.jpg                                         [1, Sisvie]  \n",
       "n03039827_3781.jpg   [Tnina, IL, didy, cleincR6, DRTVE, Tn, EiG, In...  \n",
       "n03039827_16136.jpg                  [1, CLEANERS, SAME, DAY, SERVICE]  "
      ]
     },
     "execution_count": 22,
     "metadata": {},
     "output_type": "execute_result"
    }
   ],
   "source": [
    "data_anotated.head()"
   ]
  },
  {
   "cell_type": "code",
   "execution_count": null,
   "metadata": {},
   "outputs": [],
   "source": []
  }
 ],
 "metadata": {
  "kernelspec": {
   "display_name": "Python 3",
   "language": "python",
   "name": "python3"
  },
  "language_info": {
   "codemirror_mode": {
    "name": "ipython",
    "version": 3
   },
   "file_extension": ".py",
   "mimetype": "text/x-python",
   "name": "python",
   "nbconvert_exporter": "python",
   "pygments_lexer": "ipython3",
   "version": "3.10.11"
  },
  "orig_nbformat": 4
 },
 "nbformat": 4,
 "nbformat_minor": 2
}
