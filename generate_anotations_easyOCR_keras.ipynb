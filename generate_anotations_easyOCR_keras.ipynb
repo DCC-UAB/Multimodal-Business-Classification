{
 "cells": [
  {
   "attachments": {},
   "cell_type": "markdown",
   "metadata": {},
   "source": [
    "### Create annotations using keras-ocr"
   ]
  },
  {
   "cell_type": "code",
   "execution_count": null,
   "metadata": {},
   "outputs": [],
   "source": [
    "!pip install keras-ocr"
   ]
  },
  {
   "cell_type": "code",
   "execution_count": null,
   "metadata": {},
   "outputs": [],
   "source": [
    "import keras_ocr\n",
    "import matplotlib.pyplot as plt"
   ]
  },
  {
   "cell_type": "code",
   "execution_count": 17,
   "metadata": {},
   "outputs": [],
   "source": [
    "path_folder = r\"C:\\Users\\Maria\\OneDrive - UAB\\Documentos\\2º de IA\\NN and Deep Learning\\Project\\data\\JPEGImages\"\n",
    "name_imgs = os.listdir(path_folder)\n"
   ]
  },
  {
   "cell_type": "code",
   "execution_count": 18,
   "metadata": {},
   "outputs": [
    {
     "ename": "SyntaxError",
     "evalue": "invalid syntax (989326716.py, line 5)",
     "output_type": "error",
     "traceback": [
      "\u001b[1;36m  Input \u001b[1;32mIn [18]\u001b[1;36m\u001b[0m\n\u001b[1;33m    tokens_imgs[]\u001b[0m\n\u001b[1;37m                ^\u001b[0m\n\u001b[1;31mSyntaxError\u001b[0m\u001b[1;31m:\u001b[0m invalid syntax\n"
     ]
    }
   ],
   "source": [
    "#from each group keep the word\n",
    "images = [keras_ocr.tools.read(path_folder + \"/\" + img) for img in name_imgs]\n",
    "pipeline = keras_ocr.pipeline.Pipeline()\n",
    "prediction_groups = pipeline.recognize(images)\n",
    "tokens_imgs[]\n",
    "\n",
    "tokens_imgs = {}\n",
    "for image, predictions in zip(images, prediction_groups):\n",
    "    tokens_imgs[name_img] = [token[0] for token in predictions]\n",
    "\n",
    "df_anotations = pd.DataFrame.from_dict(tokens_imgs, orient='index', columns=['text_detected'])\n",
    "df_anotations.head()"
   ]
  },
  {
   "cell_type": "code",
   "execution_count": null,
   "metadata": {},
   "outputs": [],
   "source": [
    "df_anotations.to_pickle(\"anotations_keras.pkl\")"
   ]
  }
 ],
 "metadata": {
  "kernelspec": {
   "display_name": "base",
   "language": "python",
   "name": "python3"
  },
  "language_info": {
   "codemirror_mode": {
    "name": "ipython",
    "version": 3
   },
   "file_extension": ".py",
   "mimetype": "text/x-python",
   "name": "python",
   "nbconvert_exporter": "python",
   "pygments_lexer": "ipython3",
   "version": "3.9.7"
  },
  "orig_nbformat": 4
 },
 "nbformat": 4,
 "nbformat_minor": 2
}
